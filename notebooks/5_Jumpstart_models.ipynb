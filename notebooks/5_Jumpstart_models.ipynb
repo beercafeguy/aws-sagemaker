{
 "cells": [
  {
   "cell_type": "code",
   "execution_count": 9,
   "metadata": {},
   "outputs": [],
   "source": [
    "import os\n",
    "import logging\n",
    "from datetime import datetime\n",
    "from ipywidgets import Dropdown"
   ]
  },
  {
   "cell_type": "code",
   "execution_count": 2,
   "metadata": {},
   "outputs": [
    {
     "name": "stdout",
     "output_type": "stream",
     "text": [
      "sagemaker.config INFO - Not applying SDK defaults from location: C:\\ProgramData\\sagemaker\\sagemaker\\config.yaml\n",
      "sagemaker.config INFO - Not applying SDK defaults from location: C:\\Users\\hemch\\AppData\\Local\\sagemaker\\sagemaker\\config.yaml\n"
     ]
    }
   ],
   "source": [
    "\n",
    "\n",
    "import boto3\n",
    "import sagemaker\n",
    "from sagemaker.session import TrainingInput\n",
    "from sagemaker import image_uris\n",
    "from sagemaker import hyperparameters\n",
    "\n"
   ]
  },
  {
   "cell_type": "code",
   "execution_count": 3,
   "metadata": {},
   "outputs": [],
   "source": [
    "boto3.set_stream_logger(name=\"botocore.credentials\", level=logging.WARNING)"
   ]
  },
  {
   "cell_type": "code",
   "execution_count": 4,
   "metadata": {},
   "outputs": [
    {
     "name": "stdout",
     "output_type": "stream",
     "text": [
      "us-east-1\n"
     ]
    }
   ],
   "source": [
    "region = sagemaker.Session().boto_region_name\n",
    "print(region)"
   ]
  },
  {
   "cell_type": "code",
   "execution_count": 10,
   "metadata": {},
   "outputs": [
    {
     "name": "stdout",
     "output_type": "stream",
     "text": [
      "The autoreload extension is already loaded. To reload it, use:\n",
      "  %reload_ext autoreload\n",
      "The dotenv extension is already loaded. To reload it, use:\n",
      "  %reload_ext dotenv\n"
     ]
    }
   ],
   "source": [
    "%load_ext autoreload\n",
    "%autoreload 2\n",
    "%load_ext dotenv\n",
    "%dotenv\n",
    "\n",
    "import json\n",
    "import logging\n",
    "import sys\n",
    "from pathlib import Path\n",
    "\n",
    "import ipytest\n",
    "\n",
    "#CODE_FOLDER = Path(\"code\")\n",
    "#sys.path.extend([f\"./{CODE_FOLDER}\"])\n",
    "\n",
    "#DATA_FILEPATH = \"../data/penguins.csv\"\n",
    "\n",
    "ipytest.autoconfig(raise_on_error=True)\n",
    "\n",
    "# By default, The SageMaker SDK logs events related to the default\n",
    "# configuration using the INFO level. To prevent these from spoiling\n",
    "# the output of this notebook cells, we can change the logging\n",
    "# level to ERROR instead.\n",
    "logging.getLogger(\"sagemaker.config\").setLevel(logging.ERROR)"
   ]
  },
  {
   "cell_type": "code",
   "execution_count": 6,
   "metadata": {},
   "outputs": [],
   "source": [
    "import os\n",
    "\n",
    "bucket = os.environ[\"BUCKET\"]+'/sagemaker-course'\n",
    "role = os.environ[\"ROLE\"]\n",
    "\n",
    "COMET_API_KEY = os.environ.get(\"COMET_API_KEY\", None)\n",
    "COMET_PROJECT_NAME = os.environ.get(\"COMET_PROJECT_NAME\", None)"
   ]
  },
  {
   "cell_type": "code",
   "execution_count": 7,
   "metadata": {},
   "outputs": [
    {
     "data": {
      "text/plain": [
       "'beercafe-learn-sagemaker/sagemaker-course'"
      ]
     },
     "execution_count": 7,
     "metadata": {},
     "output_type": "execute_result"
    }
   ],
   "source": [
    "bucket"
   ]
  },
  {
   "cell_type": "code",
   "execution_count": 8,
   "metadata": {},
   "outputs": [],
   "source": [
    "prefix = \"iris\""
   ]
  },
  {
   "cell_type": "markdown",
   "metadata": {},
   "source": [
    "# Download jumpstart manifest file"
   ]
  },
  {
   "cell_type": "code",
   "execution_count": 11,
   "metadata": {},
   "outputs": [
    {
     "name": "stdout",
     "output_type": "stream",
     "text": [
      "number of models:  4672\n"
     ]
    }
   ],
   "source": [
    "# download JumpStart model_manifest file.\n",
    "boto3.client(\"s3\").download_file(\n",
    "    f\"jumpstart-cache-prod-{region}\", \"models_manifest.json\", \"models_manifest.json\"\n",
    ")\n",
    "with open(\"models_manifest.json\", \"rb\") as json_file:\n",
    "    model_list = json.load(json_file)\n",
    "\n",
    "print(\"number of models: \", len(model_list))"
   ]
  },
  {
   "cell_type": "code",
   "execution_count": 12,
   "metadata": {},
   "outputs": [
    {
     "data": {
      "text/html": [
       "<div>\n",
       "<style scoped>\n",
       "    .dataframe tbody tr th:only-of-type {\n",
       "        vertical-align: middle;\n",
       "    }\n",
       "\n",
       "    .dataframe tbody tr th {\n",
       "        vertical-align: top;\n",
       "    }\n",
       "\n",
       "    .dataframe thead th {\n",
       "        text-align: right;\n",
       "    }\n",
       "</style>\n",
       "<table border=\"1\" class=\"dataframe\">\n",
       "  <thead>\n",
       "    <tr style=\"text-align: right;\">\n",
       "      <th></th>\n",
       "      <th>model_id</th>\n",
       "      <th>version</th>\n",
       "      <th>min_version</th>\n",
       "      <th>spec_key</th>\n",
       "      <th>search_keywords</th>\n",
       "    </tr>\n",
       "  </thead>\n",
       "  <tbody>\n",
       "    <tr>\n",
       "      <th>3185</th>\n",
       "      <td>tensorflow-ic-imagenet-mobilenet-v1-050-192-cl...</td>\n",
       "      <td>1.1.0</td>\n",
       "      <td>2.75.0</td>\n",
       "      <td>community_models/tensorflow-ic-imagenet-mobile...</td>\n",
       "      <td>NaN</td>\n",
       "    </tr>\n",
       "    <tr>\n",
       "      <th>756</th>\n",
       "      <td>huggingface-text2text-flan-t5-large</td>\n",
       "      <td>1.0.0</td>\n",
       "      <td>2.130.0</td>\n",
       "      <td>community_models/huggingface-text2text-flan-t5...</td>\n",
       "      <td>NaN</td>\n",
       "    </tr>\n",
       "    <tr>\n",
       "      <th>376</th>\n",
       "      <td>huggingface-sentencesimilarity-bge-small-en</td>\n",
       "      <td>1.0.0</td>\n",
       "      <td>2.144.0</td>\n",
       "      <td>community_models/huggingface-sentencesimilarit...</td>\n",
       "      <td>NaN</td>\n",
       "    </tr>\n",
       "    <tr>\n",
       "      <th>1092</th>\n",
       "      <td>huggingface-textgeneration1-gpt-neo-2-7b</td>\n",
       "      <td>3.0.0</td>\n",
       "      <td>2.189.0</td>\n",
       "      <td>community_models/huggingface-textgeneration1-g...</td>\n",
       "      <td>NaN</td>\n",
       "    </tr>\n",
       "    <tr>\n",
       "      <th>3860</th>\n",
       "      <td>tensorflow-icembedding-imagenet-mobilenet-v1-0...</td>\n",
       "      <td>2.0.2</td>\n",
       "      <td>2.80.0</td>\n",
       "      <td>community_models/tensorflow-icembedding-imagen...</td>\n",
       "      <td>NaN</td>\n",
       "    </tr>\n",
       "    <tr>\n",
       "      <th>292</th>\n",
       "      <td>huggingface-llm-mixtral-8x7b</td>\n",
       "      <td>1.1.0</td>\n",
       "      <td>2.189.0</td>\n",
       "      <td>community_models/huggingface-llm-mixtral-8x7b/...</td>\n",
       "      <td>NaN</td>\n",
       "    </tr>\n",
       "    <tr>\n",
       "      <th>3100</th>\n",
       "      <td>tensorflow-ic-imagenet-mobilenet-v1-025-160-cl...</td>\n",
       "      <td>3.0.2</td>\n",
       "      <td>2.80.0</td>\n",
       "      <td>community_models/tensorflow-ic-imagenet-mobile...</td>\n",
       "      <td>NaN</td>\n",
       "    </tr>\n",
       "    <tr>\n",
       "      <th>3124</th>\n",
       "      <td>tensorflow-ic-imagenet-mobilenet-v1-025-192-cl...</td>\n",
       "      <td>1.1.1</td>\n",
       "      <td>2.75.0</td>\n",
       "      <td>community_models/tensorflow-ic-imagenet-mobile...</td>\n",
       "      <td>NaN</td>\n",
       "    </tr>\n",
       "    <tr>\n",
       "      <th>811</th>\n",
       "      <td>huggingface-text2text-flan-t5-xxl-fp16</td>\n",
       "      <td>1.0.1</td>\n",
       "      <td>2.130.0</td>\n",
       "      <td>community_models/huggingface-text2text-flan-t5...</td>\n",
       "      <td>NaN</td>\n",
       "    </tr>\n",
       "    <tr>\n",
       "      <th>2680</th>\n",
       "      <td>tensorflow-ic-deit-tiny-distilled-patch16-224</td>\n",
       "      <td>1.0.2</td>\n",
       "      <td>2.80.0</td>\n",
       "      <td>community_models/tensorflow-ic-deit-tiny-disti...</td>\n",
       "      <td>NaN</td>\n",
       "    </tr>\n",
       "  </tbody>\n",
       "</table>\n",
       "</div>"
      ],
      "text/plain": [
       "                                               model_id version min_version  \\\n",
       "3185  tensorflow-ic-imagenet-mobilenet-v1-050-192-cl...   1.1.0      2.75.0   \n",
       "756                 huggingface-text2text-flan-t5-large   1.0.0     2.130.0   \n",
       "376         huggingface-sentencesimilarity-bge-small-en   1.0.0     2.144.0   \n",
       "1092           huggingface-textgeneration1-gpt-neo-2-7b   3.0.0     2.189.0   \n",
       "3860  tensorflow-icembedding-imagenet-mobilenet-v1-0...   2.0.2      2.80.0   \n",
       "292                        huggingface-llm-mixtral-8x7b   1.1.0     2.189.0   \n",
       "3100  tensorflow-ic-imagenet-mobilenet-v1-025-160-cl...   3.0.2      2.80.0   \n",
       "3124  tensorflow-ic-imagenet-mobilenet-v1-025-192-cl...   1.1.1      2.75.0   \n",
       "811              huggingface-text2text-flan-t5-xxl-fp16   1.0.1     2.130.0   \n",
       "2680      tensorflow-ic-deit-tiny-distilled-patch16-224   1.0.2      2.80.0   \n",
       "\n",
       "                                               spec_key search_keywords  \n",
       "3185  community_models/tensorflow-ic-imagenet-mobile...             NaN  \n",
       "756   community_models/huggingface-text2text-flan-t5...             NaN  \n",
       "376   community_models/huggingface-sentencesimilarit...             NaN  \n",
       "1092  community_models/huggingface-textgeneration1-g...             NaN  \n",
       "3860  community_models/tensorflow-icembedding-imagen...             NaN  \n",
       "292   community_models/huggingface-llm-mixtral-8x7b/...             NaN  \n",
       "3100  community_models/tensorflow-ic-imagenet-mobile...             NaN  \n",
       "3124  community_models/tensorflow-ic-imagenet-mobile...             NaN  \n",
       "811   community_models/huggingface-text2text-flan-t5...             NaN  \n",
       "2680  community_models/tensorflow-ic-deit-tiny-disti...             NaN  "
      ]
     },
     "execution_count": 12,
     "metadata": {},
     "output_type": "execute_result"
    }
   ],
   "source": [
    "import pandas as pd\n",
    "model_df = pd.DataFrame(model_list)\n",
    "model_df.sample(10)"
   ]
  },
  {
   "cell_type": "markdown",
   "metadata": {},
   "source": [
    "# Filter Object detection models"
   ]
  },
  {
   "cell_type": "code",
   "execution_count": 13,
   "metadata": {},
   "outputs": [
    {
     "name": "stdout",
     "output_type": "stream",
     "text": [
      "Number of od models available for inference: 70\n"
     ]
    }
   ],
   "source": [
    "\n",
    "# filter-out all the Object Detection models from the manifest list.\n",
    "od_models = []\n",
    "for model in model_list:\n",
    "    model_id = model[\"model_id\"]\n",
    "    if (\"-od-\" in model_id or \"-od1-\" in model_id) and model_id not in od_models:\n",
    "        od_models.append(model_id)\n",
    "\n",
    "print(f\"Number of od models available for inference: {len(od_models)}\")"
   ]
  },
  {
   "cell_type": "code",
   "execution_count": 14,
   "metadata": {},
   "outputs": [],
   "source": [
    "# display the model-ids in a dropdown to select a model for inference.\n",
    "infer_model_dropdown = Dropdown(\n",
    "    options=od_models,\n",
    "    value=\"pytorch-od-nvidia-ssd\",\n",
    "    description=\"Select a model:\",\n",
    "    style={\"description_width\": \"initial\"},\n",
    "    layout={\"width\": \"max-content\"},\n",
    ")"
   ]
  },
  {
   "cell_type": "code",
   "execution_count": 15,
   "metadata": {},
   "outputs": [
    {
     "data": {
      "application/vnd.jupyter.widget-view+json": {
       "model_id": "8032c54bf17640078eb032d983d51075",
       "version_major": 2,
       "version_minor": 0
      },
      "text/plain": [
       "Dropdown(description='Select a model:', index=17, layout=Layout(width='max-content'), options=('mxnet-od-faste…"
      ]
     },
     "metadata": {},
     "output_type": "display_data"
    }
   ],
   "source": [
    "display(infer_model_dropdown)"
   ]
  },
  {
   "cell_type": "code",
   "execution_count": 18,
   "metadata": {},
   "outputs": [
    {
     "name": "stdout",
     "output_type": "stream",
     "text": [
      "tensorflow-od-efficientdet-d0-1\n"
     ]
    }
   ],
   "source": [
    "print(infer_model_dropdown.value)"
   ]
  },
  {
   "cell_type": "markdown",
   "metadata": {},
   "source": [
    "# Filter Image classification models"
   ]
  },
  {
   "cell_type": "code",
   "execution_count": 19,
   "metadata": {},
   "outputs": [
    {
     "name": "stdout",
     "output_type": "stream",
     "text": [
      "Number of ic models available for inference: 162\n"
     ]
    }
   ],
   "source": [
    "# filter-out all the Image Classification models from the manifest list.\n",
    "ic_models = []\n",
    "for model in model_list:\n",
    "    model_id = model[\"model_id\"]\n",
    "    if (\"-ic-\" in model_id) and model_id not in ic_models:\n",
    "        ic_models.append(model_id)\n",
    "\n",
    "print(f\"Number of ic models available for inference: {len(ic_models)}\")"
   ]
  }
 ],
 "metadata": {
  "kernelspec": {
   "display_name": ".venv",
   "language": "python",
   "name": "python3"
  },
  "language_info": {
   "codemirror_mode": {
    "name": "ipython",
    "version": 3
   },
   "file_extension": ".py",
   "mimetype": "text/x-python",
   "name": "python",
   "nbconvert_exporter": "python",
   "pygments_lexer": "ipython3",
   "version": "3.10.11"
  }
 },
 "nbformat": 4,
 "nbformat_minor": 2
}
